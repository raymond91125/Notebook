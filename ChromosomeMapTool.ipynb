{
  "nbformat": 4,
  "nbformat_minor": 0,
  "metadata": {
    "colab": {
      "name": "ChromosomeMapTool.ipynb",
      "provenance": [],
      "collapsed_sections": [
        "EpmzobvKDB6t",
        "OrjCJCYsZxNt",
        "6FLFyFrSaMfh",
        "gclZWG1caapA"
      ],
      "include_colab_link": true
    },
    "kernelspec": {
      "name": "python3",
      "display_name": "Python 3"
    }
  },
  "cells": [
    {
      "cell_type": "markdown",
      "metadata": {
        "id": "view-in-github",
        "colab_type": "text"
      },
      "source": [
        "<a href=\"https://colab.research.google.com/github/raymond91125/Notebook/blob/master/ChromosomeMapTool.ipynb\" target=\"_parent\"><img src=\"https://colab.research.google.com/assets/colab-badge.svg\" alt=\"Open In Colab\"/></a>"
      ]
    },
    {
      "cell_type": "markdown",
      "metadata": {
        "id": "8GPUQZnXuqzM",
        "colab_type": "text"
      },
      "source": [
        "A Google Colab Tool written by Raymond Lee (raymond+colab@caltech.edu)"
      ]
    },
    {
      "cell_type": "markdown",
      "metadata": {
        "id": "EpmzobvKDB6t",
        "colab_type": "text"
      },
      "source": [
        "# USAGE: Enter a list of *C. elegans* gene names to plot a chromosome **physical** map."
      ]
    },
    {
      "cell_type": "code",
      "metadata": {
        "id": "aa3ZLLMQY7p0",
        "colab_type": "code",
        "cellView": "both",
        "colab": {
          "base_uri": "https://localhost:8080/",
          "height": 34
        },
        "outputId": "0a3b0759-ee43-4960-f2f3-82252610532a"
      },
      "source": [
        "#@title\n",
        "# From WormMine (should be replaced with a more direct DB query.)\n",
        "%pip install intermine\n",
        "from __future__ import print_function\n",
        "from intermine.webservice import Service\n",
        "service = Service(\"http://intermine.wormbase.org/tools/wormmine/service\")"
      ],
      "execution_count": 19,
      "outputs": [
        {
          "output_type": "stream",
          "text": [
            "Requirement already satisfied: intermine in /usr/local/lib/python3.6/dist-packages (1.11.0)\n"
          ],
          "name": "stdout"
        }
      ]
    },
    {
      "cell_type": "code",
      "metadata": {
        "id": "AR0RME_cLzUK",
        "colab_type": "code",
        "cellView": "both",
        "colab": {}
      },
      "source": [
        "#@title\n",
        "# ref: https://www.w3resource.com/python-exercises/class-exercises/python-class-exercise-2.php\n",
        "def roman_to_int(s):\n",
        "  rom_val = {'I': 1, 'V': 5, 'X': 10, 'L': 50, 'C': 100, 'D': 500, 'M': 1000}\n",
        "  int_val = 0\n",
        "  for i in range(len(s)):\n",
        "    if i > 0 and rom_val[s[i]] > rom_val[s[i - 1]]:\n",
        "      int_val += rom_val[s[i]] - 2 * rom_val[s[i - 1]]\n",
        "    else:\n",
        "      int_val += rom_val[s[i]]\n",
        "  return int_val\n",
        "\n",
        "# print(roman_to_int('MMMCMLXXXVI'))"
      ],
      "execution_count": 0,
      "outputs": []
    },
    {
      "cell_type": "code",
      "metadata": {
        "id": "uVgZJ6uZW530",
        "colab_type": "code",
        "cellView": "form",
        "colab": {
          "base_uri": "https://localhost:8080/",
          "height": 1000
        },
        "outputId": "cdc1ee1b-ba31-409a-ac83-318f7122df2c"
      },
      "source": [
        "#@title\n",
        "!wget \"https://noto-website-2.storage.googleapis.com/pkgs/NotoSans-hinted.zip\"\n",
        "!unzip \"NotoSans-hinted.zip\"\n",
        "!mv \"NotoSans-BoldItalic.ttf\" \"/usr/share/fonts/truetype\"\n",
        "!mv \"NotoSans-Bold.ttf\" \"/usr/share/fonts/truetype\"\n",
        "!mv \"NotoSans-Italic.ttf\" \"/usr/share/fonts/truetype\"\n",
        "!mv \"NotoSans-ExtraBoldItalic.ttf\" \"/usr/share/fonts/truetype\""
      ],
      "execution_count": 12,
      "outputs": [
        {
          "output_type": "stream",
          "text": [
            "--2020-05-28 19:01:48--  https://noto-website-2.storage.googleapis.com/pkgs/NotoSans-hinted.zip\n",
            "Resolving noto-website-2.storage.googleapis.com (noto-website-2.storage.googleapis.com)... 74.125.143.128, 2a00:1450:4013:c03::80\n",
            "Connecting to noto-website-2.storage.googleapis.com (noto-website-2.storage.googleapis.com)|74.125.143.128|:443... connected.\n",
            "HTTP request sent, awaiting response... 200 OK\n",
            "Length: 16796031 (16M) [application/zip]\n",
            "Saving to: ‘NotoSans-hinted.zip.1’\n",
            "\n",
            "NotoSans-hinted.zip 100%[===================>]  16.02M  30.4MB/s    in 0.5s    \n",
            "\n",
            "2020-05-28 19:01:49 (30.4 MB/s) - ‘NotoSans-hinted.zip.1’ saved [16796031/16796031]\n",
            "\n",
            "Archive:  NotoSans-hinted.zip\n",
            "replace LICENSE_OFL.txt? [y]es, [n]o, [A]ll, [N]one, [r]ename: A\n",
            "  inflating: LICENSE_OFL.txt         \n",
            "  inflating: NotoSans-Black.ttf      \n",
            "  inflating: NotoSans-BlackItalic.ttf  \n",
            "  inflating: NotoSans-Bold.ttf       \n",
            "  inflating: NotoSans-BoldItalic.ttf  \n",
            "  inflating: NotoSans-Condensed.ttf  \n",
            "  inflating: NotoSans-CondensedBlack.ttf  \n",
            "  inflating: NotoSans-CondensedBlackItalic.ttf  \n",
            "  inflating: NotoSans-CondensedBold.ttf  \n",
            "  inflating: NotoSans-CondensedBoldItalic.ttf  \n",
            "  inflating: NotoSans-CondensedExtraBold.ttf  \n",
            "  inflating: NotoSans-CondensedExtraBoldItalic.ttf  \n",
            "  inflating: NotoSans-CondensedExtraLight.ttf  \n",
            "  inflating: NotoSans-CondensedExtraLightItalic.ttf  \n",
            "  inflating: NotoSans-CondensedItalic.ttf  \n",
            "  inflating: NotoSans-CondensedLight.ttf  \n",
            "  inflating: NotoSans-CondensedLightItalic.ttf  \n",
            "  inflating: NotoSans-CondensedMedium.ttf  \n",
            "  inflating: NotoSans-CondensedMediumItalic.ttf  \n",
            "  inflating: NotoSans-CondensedSemiBold.ttf  \n",
            "  inflating: NotoSans-CondensedSemiBoldItalic.ttf  \n",
            "  inflating: NotoSans-CondensedThin.ttf  \n",
            "  inflating: NotoSans-CondensedThinItalic.ttf  \n",
            "  inflating: NotoSans-ExtraBold.ttf  \n",
            "  inflating: NotoSans-ExtraBoldItalic.ttf  \n",
            "  inflating: NotoSans-ExtraCondensed.ttf  \n",
            "  inflating: NotoSans-ExtraCondensedBlack.ttf  \n",
            "  inflating: NotoSans-ExtraCondensedBlackItalic.ttf  \n",
            "  inflating: NotoSans-ExtraCondensedBold.ttf  \n",
            "  inflating: NotoSans-ExtraCondensedBoldItalic.ttf  \n",
            "  inflating: NotoSans-ExtraCondensedExtraBold.ttf  \n",
            "  inflating: NotoSans-ExtraCondensedExtraBoldItalic.ttf  \n",
            "  inflating: NotoSans-ExtraCondensedExtraLight.ttf  \n",
            "  inflating: NotoSans-ExtraCondensedExtraLightItalic.ttf  \n",
            "  inflating: NotoSans-ExtraCondensedItalic.ttf  \n",
            "  inflating: NotoSans-ExtraCondensedLight.ttf  \n",
            "  inflating: NotoSans-ExtraCondensedLightItalic.ttf  \n",
            "  inflating: NotoSans-ExtraCondensedMedium.ttf  \n",
            "  inflating: NotoSans-ExtraCondensedMediumItalic.ttf  \n",
            "  inflating: NotoSans-ExtraCondensedSemiBold.ttf  \n",
            "  inflating: NotoSans-ExtraCondensedSemiBoldItalic.ttf  \n",
            "  inflating: NotoSans-ExtraCondensedThin.ttf  \n",
            "  inflating: NotoSans-ExtraCondensedThinItalic.ttf  \n",
            "  inflating: NotoSans-ExtraLight.ttf  \n",
            "  inflating: NotoSans-ExtraLightItalic.ttf  \n",
            "  inflating: NotoSans-Italic.ttf     \n",
            "  inflating: NotoSans-Light.ttf      \n",
            "  inflating: NotoSans-LightItalic.ttf  \n",
            "  inflating: NotoSans-Medium.ttf     \n",
            "  inflating: NotoSans-MediumItalic.ttf  \n",
            "  inflating: NotoSans-Regular.ttf    \n",
            "  inflating: NotoSans-SemiBold.ttf   \n",
            "  inflating: NotoSans-SemiBoldItalic.ttf  \n",
            "  inflating: NotoSans-SemiCondensed.ttf  \n",
            "  inflating: NotoSans-SemiCondensedBlack.ttf  \n",
            "  inflating: NotoSans-SemiCondensedBlackItalic.ttf  \n",
            "  inflating: NotoSans-SemiCondensedBold.ttf  \n",
            "  inflating: NotoSans-SemiCondensedBoldItalic.ttf  \n",
            "  inflating: NotoSans-SemiCondensedExtraBold.ttf  \n",
            "  inflating: NotoSans-SemiCondensedExtraBoldItalic.ttf  \n",
            "  inflating: NotoSans-SemiCondensedExtraLight.ttf  \n",
            "  inflating: NotoSans-SemiCondensedExtraLightItalic.ttf  \n",
            "  inflating: NotoSans-SemiCondensedItalic.ttf  \n",
            "  inflating: NotoSans-SemiCondensedLight.ttf  \n",
            "  inflating: NotoSans-SemiCondensedLightItalic.ttf  \n",
            "  inflating: NotoSans-SemiCondensedMedium.ttf  \n",
            "  inflating: NotoSans-SemiCondensedMediumItalic.ttf  \n",
            "  inflating: NotoSans-SemiCondensedSemiBold.ttf  \n",
            "  inflating: NotoSans-SemiCondensedSemiBoldItalic.ttf  \n",
            "  inflating: NotoSans-SemiCondensedThin.ttf  \n",
            "  inflating: NotoSans-SemiCondensedThinItalic.ttf  \n",
            "  inflating: NotoSans-Thin.ttf       \n",
            "  inflating: NotoSans-ThinItalic.ttf  \n",
            "  inflating: README                  \n"
          ],
          "name": "stdout"
        }
      ]
    },
    {
      "cell_type": "code",
      "metadata": {
        "id": "R3HpDFq5Xp-h",
        "colab_type": "code",
        "cellView": "both",
        "colab": {}
      },
      "source": [
        "#@title\n",
        "# ref: https://stackoverflow.com/questions/245447/how-do-i-draw-text-at-an-angle-using-pythons-pil\n",
        "def rotatetxt(text='test', degree=90):\n",
        "  from PIL import Image, ImageFont, ImageDraw, ImageOps\n",
        "\n",
        "  font = ImageFont.truetype(\"/usr/share/fonts/truetype/NotoSans-ExtraBoldItalic.ttf\", size=12)\n",
        "  width, height = font.getsize(text)\n",
        "\n",
        "  image = Image.new('L', (height+30, width))\n",
        "  draw = ImageDraw.Draw(image)\n",
        "  draw.text((0, 0), text, font=font, fill=255)\n",
        "  writeout = image.rotate(degree, expand=1)\n",
        "  return writeout\n",
        "\n",
        "\n",
        " \n"
      ],
      "execution_count": 0,
      "outputs": []
    },
    {
      "cell_type": "markdown",
      "metadata": {
        "id": "gD4LrqohZ8lC",
        "colab_type": "text"
      },
      "source": [
        "# Get Genes"
      ]
    },
    {
      "cell_type": "code",
      "metadata": {
        "id": "N2a4A6znYXlc",
        "colab_type": "code",
        "cellView": "form",
        "colab": {}
      },
      "source": [
        "#@title Enter a list of <i>C. elegans</i> gene names (separated by comma)\n",
        "GeneNames = \"eat-4, egl-19, eat-8, glr-1, C26C6.1, sea-2, WBGene00006669, lin-15A, ctb-1\" #@param {type:\"string\"}\n",
        "import regex as re\n",
        "gene_strings = re.split('; |, |\\*|\\n', GeneNames)\n",
        "# print(gene_strings)\n"
      ],
      "execution_count": 0,
      "outputs": []
    },
    {
      "cell_type": "code",
      "metadata": {
        "id": "fjP0Ek9vbVu2",
        "colab_type": "code",
        "cellView": "form",
        "outputId": "bc36dfde-e225-42f7-81f8-65ba4d6cd4d9",
        "colab": {
          "base_uri": "https://localhost:8080/",
          "height": 72
        }
      },
      "source": [
        "#@title\n",
        "genes_found = {}\n",
        "genes_notfound = []\n",
        "# From WormMine (should be replaced with a more direct DB query.)\n",
        "\n",
        "for gene_name in gene_strings:\n",
        "  gene_name = gene_name.strip()\n",
        "  genequery = service.new_query(\"Gene\") # service defined in previous block\n",
        "  genequery.add_view(\"chromosome.primaryIdentifier\", \"locations.start\")\n",
        "  genequery.add_constraint(\"Gene\", \"LOOKUP\", gene_name, \"C. elegans\", code = \"A\")\n",
        "\n",
        "  if gene_name not in genes_found:  # gather list of non redundant genes\n",
        "    if not genequery.rows():\n",
        "      genes_notfound.append(gene_name)\n",
        "    else:\n",
        "      for generow in genequery.rows():\n",
        "        gene_id, gene_pub_name, gene_chr, gene_loc = generow[\"primaryIdentifier\"], generow[\"symbol\"], generow[\"chromosome.primaryIdentifier\"], generow[\"locations.start\"]\n",
        "        genes_found.update({gene_id : [gene_pub_name, gene_chr, gene_loc]})\n",
        "print('Genes Mapped', genes_found)\n",
        "print('Genes Not Mapped ', genes_notfound)"
      ],
      "execution_count": 15,
      "outputs": [
        {
          "output_type": "stream",
          "text": [
            "Genes Mapped {'WBGene00001135': ['eat-4', 'III', 9136887], 'WBGene00001187': ['egl-19', 'IV', 7405582], 'WBGene00001612': ['glr-1', 'III', 8584186], 'WBGene00007042': ['pbrm-1', 'I', 7495431], 'WBGene00004751': ['sea-2', 'II', 3950377], 'WBGene00006669': ['twk-14', 'V', 12387041], 'WBGene00023498': ['lin-15A', 'X', 15731968], 'WBGene00000829': ['ctb-1', 'MtDNA', 4504]}\n",
            "Genes Not Mapped  ['eat-8']\n"
          ],
          "name": "stdout"
        }
      ]
    },
    {
      "cell_type": "markdown",
      "metadata": {
        "id": "OrjCJCYsZxNt",
        "colab_type": "text"
      },
      "source": [
        "# Fetch Chromosomes"
      ]
    },
    {
      "cell_type": "code",
      "metadata": {
        "id": "FqNTzuWtmLcQ",
        "colab_type": "code",
        "cellView": "form",
        "colab": {}
      },
      "source": [
        "#@title\n",
        "# Get Chromosomes and Lengths\n",
        "Chrquery = service.new_query(\"Chromosome\")\n",
        "Chrquery.add_view(\"primaryIdentifier\", \"length\")\n",
        "chromosomes = {}\n",
        "for chrrow in Chrquery.rows():\n",
        "  (chrom_label, length) = (chrrow[\"primaryIdentifier\"], chrrow[\"length\"])\n",
        "  if 'X' in chrom_label:\n",
        "    chr_num = (5+1)\n",
        "  elif 'MtDNA' in chrom_label:\n",
        "    chr_num = (6+1) \n",
        "  else:\n",
        "    chr_num = roman_to_int(chrom_label)\n",
        "  chromosomes.update({chr_num : [chrom_label, length]})\n",
        "\n",
        "# print(sorted(chromosomes.items()))"
      ],
      "execution_count": 0,
      "outputs": []
    },
    {
      "cell_type": "markdown",
      "metadata": {
        "id": "6FLFyFrSaMfh",
        "colab_type": "text"
      },
      "source": [
        "# Plot"
      ]
    },
    {
      "cell_type": "code",
      "metadata": {
        "id": "lxnk0tV29Wan",
        "colab_type": "code",
        "cellView": "form",
        "outputId": "4ee19408-6cda-411a-f659-7fc320106e15",
        "colab": {
          "base_uri": "https://localhost:8080/",
          "height": 537
        }
      },
      "source": [
        "#@title\n",
        "from PIL import Image, ImageDraw, ImageFont, ImageOps\n",
        "spacer = 65\n",
        "im = Image.new('RGB', (900, (spacer * 8)), (255, 255, 255)) # canvas dimension and color\n",
        "graph = ImageDraw.Draw(im)\n",
        "\n",
        "headspace = 60\n",
        "mitohead = 200\n",
        "txthead = 15\n",
        "\n",
        "for chromosome in chromosomes:\n",
        "  (chrnum, chromlabel, chromlength) = \\\n",
        "  (chromosome, chromosomes[chromosome][0], chromosomes[chromosome][1])\n",
        "  font = ImageFont.truetype(\"/usr/share/fonts/truetype/NotoSans-Bold.ttf\", size=20)\n",
        "  if 'MtDNA' in chromlabel:\n",
        "    graph.line((mitohead, (spacer * chrnum), (chromlength/25), (spacer * chrnum)), fill=(0, 100, 255), width=5)\n",
        "    graph.text((txthead, (spacer * chrnum - 15)),(chromlabel + ' (X 1,000)'),(0,0,0),font=font)\n",
        "  else:\n",
        "    graph.line((headspace, (spacer * chrnum), (chromlength/25000), (spacer * chrnum)), fill=(0, 100, 255), width=5)\n",
        "    graph.text((txthead, (spacer * chrnum - 15)),(chromlabel),(0,0,0),font=font)\n",
        "\n",
        "for gene in genes_found:\n",
        "  (geneid, pubname, chromo, location) = \\\n",
        "  (gene, genes_found[gene][0], genes_found[gene][1], genes_found[gene][2])\n",
        "  font = ImageFont.truetype(\"/usr/share/fonts/truetype/NotoSans-BoldItalic.ttf\")\n",
        "  if 'MtDNA' in chromo:\n",
        "    chrnum = 7\n",
        "    graph.line(((location/25 + mitohead), (spacer * chrnum -2.5 ), (location/25 + mitohead), (spacer * chrnum - 10)), fill=(0, 0, 0), width=2)\n",
        "    im.paste( ImageOps.colorize(rotatetxt(pubname, 45), (0,0,0), (0,0,0)), (int(location/25 + mitohead - 5), (spacer * chrnum - 50)),  rotatetxt(pubname, 45))\n",
        "#    graph.text(((location/25 + mitohead), (spacer * chrnum - 25)), pubname, (0,0,0), font=font)\n",
        "  elif 'X' in chromo:\n",
        "    chrnum = 6\n",
        "    graph.line(((location/25000 + headspace), (spacer * chrnum -2.5 ), (location/25000 + headspace), (spacer * chrnum - 10)), fill=(0, 0, 0), width=2)\n",
        "    im.paste( ImageOps.colorize(rotatetxt(pubname, 45), (0,0,0), (0,0,0)), (int(location/25000 + headspace - 5), (spacer * chrnum - 50)),  rotatetxt(pubname, 45))\n",
        "#    graph.text(((location/25000 + headspace), (spacer * chrnum - 25)), pubname, (0,0,0), font=font)\n",
        "  else:\n",
        "    chrnum = roman_to_int(chromo)\n",
        "    graph.line(((location/25000 + headspace), (spacer * chrnum -2.5 ), (location/25000 + headspace), (spacer * chrnum - 10)), fill=(0, 0, 0), width=2)\n",
        "    im.paste( ImageOps.colorize(rotatetxt(pubname, 45), (0,0,0), (0,0,0)), (int(location/25000 + headspace - 5), (spacer * chrnum - 50)),  rotatetxt(pubname, 45))\n",
        "#    graph.text(((location/25000 + headspace), (spacer * chrnum - 25)), pubname, (0,0,0), font=font)\n",
        "\n",
        "im\n"
      ],
      "execution_count": 17,
      "outputs": [
        {
          "output_type": "execute_result",
          "data": {
            "image/png": "[encoded data removed]",
            "text/plain": [
              "<PIL.Image.Image image mode=RGB size=900x520 at 0x7F382479CA58>"
            ]
          },
          "metadata": {
            "tags": []
          },
          "execution_count": 17
        }
      ]
    },
    {
      "cell_type": "markdown",
      "metadata": {
        "id": "gclZWG1caapA",
        "colab_type": "text"
      },
      "source": [
        "# Save Plot"
      ]
    },
    {
      "cell_type": "code",
      "metadata": {
        "id": "a6fLXmzt0XE4",
        "colab_type": "code",
        "cellView": "form",
        "colab": {}
      },
      "source": [
        "#@title\n",
        "im.save('ChrMap.png','')\n",
        "\n",
        "from google.colab import files\n",
        "files.download('ChrMap.png')\n",
        "\n"
      ],
      "execution_count": 0,
      "outputs": []
    }
  ]
}